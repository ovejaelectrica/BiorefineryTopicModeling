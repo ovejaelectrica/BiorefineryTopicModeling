{
 "cells": [
  {
   "cell_type": "markdown",
   "metadata": {},
   "source": [
    "# Scraping of PDFs of IEA Bioenergy Report\n",
    "Start: 2021-02-04\n",
    "The content will be ananlysed with LDA Topic Modeling tecnich, to explore possible institutional logics and their evulution."
   ]
  },
  {
   "cell_type": "markdown",
   "metadata": {},
   "source": [
    "## Imports\n",
    "PyPDF2 to convert the text of PDF files to text\n",
    "Pandas to analyse the data\n",
    "os to get the names of the pdf files, nammed for each year of publication."
   ]
  },
  {
   "cell_type": "code",
   "execution_count": 1,
   "metadata": {},
   "outputs": [],
   "source": [
    "# Imports\n",
    "import PyPDF2 as pdf # base scraping module\n",
    "import pandas as pd # pandas module for data analisys\n",
    "from os import listdir # to get all the files"
   ]
  },
  {
   "cell_type": "markdown",
   "metadata": {},
   "source": [
    "## Getting the files\n",
    "IEA bioenergy annual reports are all in the same folder, named as YEAR.PDF"
   ]
  },
  {
   "cell_type": "code",
   "execution_count": 2,
   "metadata": {},
   "outputs": [
    {
     "name": "stdout",
     "output_type": "stream",
     "text": [
      "['.ipynb_checkpoints', '1998.pdf', '2000.pdf', '2001.pdf', '2002.pdf', '2003.pdf', '2004.pdf', '2005.pdf', '2006.pdf', '2007.pdf', '2008.pdf', '2009.pdf', '2010.pdf', '2011.pdf', '2012.pdf', '2013.pdf', '2014.pdf', '2015.pdf', '2016.pdf', '2017.pdf', '2018.pdf', '2019.pdf']\n"
     ]
    }
   ],
   "source": [
    "file_path = '/home/ab/OneDrive/PhD 2019-2021/3er paper/Data Sources/IAE Bioenergy report/'\n",
    "file_list = listdir(file_path)\n",
    "file_list.sort()\n",
    "print(file_list)"
   ]
  },
  {
   "cell_type": "code",
   "execution_count": 6,
   "metadata": {},
   "outputs": [
    {
     "name": "stdout",
     "output_type": "stream",
     "text": [
      "['1998.pdf', '2000.pdf', '2001.pdf', '2002.pdf', '2003.pdf', '2004.pdf', '2005.pdf', '2006.pdf', '2007.pdf', '2008.pdf', '2009.pdf', '2010.pdf', '2011.pdf', '2012.pdf', '2013.pdf', '2014.pdf', '2015.pdf', '2016.pdf', '2017.pdf', '2018.pdf', '2019.pdf']\n",
      "['1998', '2000', '2001', '2002', '2003', '2004', '2005', '2006', '2007', '2008', '2009', '2010', '2011', '2012', '2013', '2014', '2015', '2016', '2017', '2018', '2019']\n"
     ]
    }
   ],
   "source": [
    "year_list = [] # list of years corresponding to each file\n",
    "\n",
    "# cleaning up the content\n",
    "for file in file_list:\n",
    "    if 'pdf' not in file:\n",
    "        file_list.remove(file)\n",
    "    else:\n",
    "        continue\n",
    "\n",
    "for file in file_list:\n",
    "        file = file[:-4] #removing .pdf with slicing.\n",
    "        year_list.append(file)\n",
    "\n",
    "print(file_list)\n",
    "print(year_list)"
   ]
  },
  {
   "cell_type": "markdown",
   "metadata": {},
   "source": [
    "## DF to store the information"
   ]
  },
  {
   "cell_type": "code",
   "execution_count": 7,
   "metadata": {},
   "outputs": [
    {
     "name": "stdout",
     "output_type": "stream",
     "text": [
      "    FILENAME  YEAR\n",
      "0   1998.pdf  1998\n",
      "1   2000.pdf  2000\n",
      "2   2001.pdf  2001\n",
      "3   2002.pdf  2002\n",
      "4   2003.pdf  2003\n",
      "5   2004.pdf  2004\n",
      "6   2005.pdf  2005\n",
      "7   2006.pdf  2006\n",
      "8   2007.pdf  2007\n",
      "9   2008.pdf  2008\n",
      "10  2009.pdf  2009\n",
      "11  2010.pdf  2010\n",
      "12  2011.pdf  2011\n",
      "13  2012.pdf  2012\n",
      "14  2013.pdf  2013\n",
      "15  2014.pdf  2014\n",
      "16  2015.pdf  2015\n",
      "17  2016.pdf  2016\n",
      "18  2017.pdf  2017\n",
      "19  2018.pdf  2018\n",
      "20  2019.pdf  2019\n"
     ]
    }
   ],
   "source": [
    "content_df = pd.DataFrame()\n",
    "\n",
    "# inserting FILENAME and YEAR information\n",
    "content_df['FILENAME'] = file_list\n",
    "content_df['YEAR'] = year_list\n",
    "\n",
    "print(content_df)"
   ]
  },
  {
   "cell_type": "markdown",
   "metadata": {},
   "source": [
    "## Opening and loading content to CSV"
   ]
  },
  {
   "cell_type": "code",
   "execution_count": 11,
   "metadata": {},
   "outputs": [
    {
     "name": "stdout",
     "output_type": "stream",
     "text": [
      "<class 'str'>\n"
     ]
    }
   ],
   "source": [
    "# better working with a function to separate problems\n",
    "def pdf_to_text(path):\n",
    "    with open(path, 'rb') as file:\n",
    "            pdf_doc = pdf.PdfFileReader(file)\n",
    "            content = ''\n",
    "            for pageNum in range(pdf_doc.numPages):\n",
    "                page = pdf_doc.getPage(pageNum)\n",
    "                content += page.extractText()\n",
    "                content_list.append(content)\n",
    "    return content\n",
    "\n",
    "\n",
    "# working with a single file, for testing purposes\n",
    "# test_content = pdf_to_text(file_path + file_list[15]) ## ERROR with file in [0]\n",
    "# print(type(test_content)) # <class 'str'> as expected"
   ]
  },
  {
   "cell_type": "code",
   "execution_count": 13,
   "metadata": {},
   "outputs": [
    {
     "name": "stdout",
     "output_type": "stream",
     "text": [
      "2516\n"
     ]
    }
   ],
   "source": [
    "# adding all to the DF\n",
    "\n",
    "content_list = [] # temporary list to store the text content of all files\n",
    "content_list.append('') # I need to skip the first element, as was previously skipped in the PDFs. If the lenght is not equal to the DF, it yields an error.\n",
    "\n",
    "for file_name in file_list[1:]: # loop to work with each file on the list ## skipping [0] as it produces errors\n",
    "    content = pdf_to_text(file_path + file_name)\n",
    "    content_list.append(content)\n",
    "    #content_list += [content] #same as above\n",
    "    del content\n",
    "\n",
    "print(len(content_list)) # 2516 why!?!?!?!\n",
    "# content_df['CONTENT'] = content_list\n",
    "# del content_list # cleanup memory\n",
    "# print(content_df)"
   ]
  }
 ],
 "metadata": {
  "kernelspec": {
   "display_name": "Python 3",
   "language": "python",
   "name": "python3"
  },
  "language_info": {
   "codemirror_mode": {
    "name": "ipython",
    "version": 3
   },
   "file_extension": ".py",
   "mimetype": "text/x-python",
   "name": "python",
   "nbconvert_exporter": "python",
   "pygments_lexer": "ipython3",
   "version": "3.7.9"
  }
 },
 "nbformat": 4,
 "nbformat_minor": 4
}
